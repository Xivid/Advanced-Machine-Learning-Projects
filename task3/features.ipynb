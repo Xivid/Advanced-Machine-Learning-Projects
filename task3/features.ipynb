{
 "cells": [
  {
   "cell_type": "code",
   "execution_count": 1,
   "metadata": {},
   "outputs": [
    {
     "name": "stdout",
     "output_type": "stream",
     "text": [
      "Requirement already satisfied: sortedcontainers in /usr/local/anaconda3/lib/python3.6/site-packages (1.5.10)\n",
      "\u001b[33mYou are using pip version 18.0, however version 18.1 is available.\n",
      "You should consider upgrading via the 'pip install --upgrade pip' command.\u001b[0m\n"
     ]
    }
   ],
   "source": [
    "!pip install sortedcontainers"
   ]
  },
  {
   "cell_type": "code",
   "execution_count": 2,
   "metadata": {},
   "outputs": [
    {
     "name": "stdout",
     "output_type": "stream",
     "text": [
      "Requirement already satisfied: PyWavelets in /usr/local/anaconda3/lib/python3.6/site-packages (0.5.2)\n",
      "Requirement already satisfied: numpy>=1.9.1 in /usr/local/anaconda3/lib/python3.6/site-packages (from PyWavelets) (1.14.3)\n",
      "\u001b[33mYou are using pip version 18.0, however version 18.1 is available.\n",
      "You should consider upgrading via the 'pip install --upgrade pip' command.\u001b[0m\n"
     ]
    }
   ],
   "source": [
    "!pip install PyWavelets"
   ]
  },
  {
   "cell_type": "code",
   "execution_count": 3,
   "metadata": {},
   "outputs": [
    {
     "name": "stdout",
     "output_type": "stream",
     "text": [
      "Requirement already satisfied: networkx in /usr/local/anaconda3/lib/python3.6/site-packages (2.1)\n",
      "Requirement already satisfied: decorator>=4.1.0 in /usr/local/anaconda3/lib/python3.6/site-packages (from networkx) (4.3.0)\n",
      "\u001b[33mYou are using pip version 18.0, however version 18.1 is available.\n",
      "You should consider upgrading via the 'pip install --upgrade pip' command.\u001b[0m\n"
     ]
    }
   ],
   "source": [
    "!pip install networkx"
   ]
  },
  {
   "cell_type": "code",
   "execution_count": 4,
   "metadata": {},
   "outputs": [
    {
     "name": "stdout",
     "output_type": "stream",
     "text": [
      "Collecting pygraphviz\n",
      "\u001b[?25l  Downloading https://files.pythonhosted.org/packages/7e/b1/d6d849ddaf6f11036f9980d433f383d4c13d1ebcfc3cd09bc845bda7e433/pygraphviz-1.5.zip (117kB)\n",
      "\u001b[K    100% |████████████████████████████████| 122kB 2.0MB/s ta 0:00:01\n",
      "\u001b[?25hBuilding wheels for collected packages: pygraphviz\n",
      "  Running setup.py bdist_wheel for pygraphviz ... \u001b[?25lerror\n",
      "  Complete output from command /usr/local/anaconda3/bin/python -u -c \"import setuptools, tokenize;__file__='/private/var/folders/45/g2jwl_55621chnxnvj_9bffm0000gn/T/pip-install-lc6q378p/pygraphviz/setup.py';f=getattr(tokenize, 'open', open)(__file__);code=f.read().replace('\\r\\n', '\\n');f.close();exec(compile(code, __file__, 'exec'))\" bdist_wheel -d /private/var/folders/45/g2jwl_55621chnxnvj_9bffm0000gn/T/pip-wheel-7hyywkzh --python-tag cp36:\n",
      "  running bdist_wheel\n",
      "  running build\n",
      "  running build_py\n",
      "  creating build\n",
      "  creating build/lib.macosx-10.7-x86_64-3.6\n",
      "  creating build/lib.macosx-10.7-x86_64-3.6/pygraphviz\n",
      "  copying pygraphviz/release.py -> build/lib.macosx-10.7-x86_64-3.6/pygraphviz\n",
      "  copying pygraphviz/version.py -> build/lib.macosx-10.7-x86_64-3.6/pygraphviz\n",
      "  copying pygraphviz/graphviz.py -> build/lib.macosx-10.7-x86_64-3.6/pygraphviz\n",
      "  copying pygraphviz/__init__.py -> build/lib.macosx-10.7-x86_64-3.6/pygraphviz\n",
      "  copying pygraphviz/agraph.py -> build/lib.macosx-10.7-x86_64-3.6/pygraphviz\n",
      "  creating build/lib.macosx-10.7-x86_64-3.6/pygraphviz/tests\n",
      "  copying pygraphviz/tests/test_setup.py -> build/lib.macosx-10.7-x86_64-3.6/pygraphviz/tests\n",
      "  copying pygraphviz/tests/test_unicode.py -> build/lib.macosx-10.7-x86_64-3.6/pygraphviz/tests\n",
      "  copying pygraphviz/tests/test_readwrite.py -> build/lib.macosx-10.7-x86_64-3.6/pygraphviz/tests\n",
      "  copying pygraphviz/tests/test_string.py -> build/lib.macosx-10.7-x86_64-3.6/pygraphviz/tests\n",
      "  copying pygraphviz/tests/__init__.py -> build/lib.macosx-10.7-x86_64-3.6/pygraphviz/tests\n",
      "  copying pygraphviz/tests/test_html.py -> build/lib.macosx-10.7-x86_64-3.6/pygraphviz/tests\n",
      "  copying pygraphviz/tests/test_node_attributes.py -> build/lib.macosx-10.7-x86_64-3.6/pygraphviz/tests\n",
      "  copying pygraphviz/tests/test.py -> build/lib.macosx-10.7-x86_64-3.6/pygraphviz/tests\n",
      "  copying pygraphviz/tests/test_drawing.py -> build/lib.macosx-10.7-x86_64-3.6/pygraphviz/tests\n",
      "  copying pygraphviz/tests/test_subgraph.py -> build/lib.macosx-10.7-x86_64-3.6/pygraphviz/tests\n",
      "  copying pygraphviz/tests/test_edge_attributes.py -> build/lib.macosx-10.7-x86_64-3.6/pygraphviz/tests\n",
      "  copying pygraphviz/tests/test_clear.py -> build/lib.macosx-10.7-x86_64-3.6/pygraphviz/tests\n",
      "  copying pygraphviz/tests/test_layout.py -> build/lib.macosx-10.7-x86_64-3.6/pygraphviz/tests\n",
      "  copying pygraphviz/tests/test_attribute_defaults.py -> build/lib.macosx-10.7-x86_64-3.6/pygraphviz/tests\n",
      "  copying pygraphviz/tests/test_graph.py -> build/lib.macosx-10.7-x86_64-3.6/pygraphviz/tests\n",
      "  copying pygraphviz/tests/test_attributes.py -> build/lib.macosx-10.7-x86_64-3.6/pygraphviz/tests\n",
      "  running egg_info\n",
      "  writing pygraphviz.egg-info/PKG-INFO\n",
      "  writing dependency_links to pygraphviz.egg-info/dependency_links.txt\n",
      "  writing top-level names to pygraphviz.egg-info/top_level.txt\n",
      "  reading manifest file 'pygraphviz.egg-info/SOURCES.txt'\n",
      "  reading manifest template 'MANIFEST.in'\n",
      "  warning: no files found matching '*.png' under directory 'doc'\n",
      "  warning: no files found matching '*.html' under directory 'doc'\n",
      "  warning: no files found matching '*.txt' under directory 'doc'\n",
      "  warning: no files found matching '*.css' under directory 'doc'\n",
      "  warning: no previously-included files matching '*~' found anywhere in distribution\n",
      "  warning: no previously-included files matching '*.pyc' found anywhere in distribution\n",
      "  warning: no previously-included files matching '.svn' found anywhere in distribution\n",
      "  no previously-included directories found matching 'doc/build'\n",
      "  writing manifest file 'pygraphviz.egg-info/SOURCES.txt'\n",
      "  copying pygraphviz/graphviz.i -> build/lib.macosx-10.7-x86_64-3.6/pygraphviz\n",
      "  copying pygraphviz/graphviz_wrap.c -> build/lib.macosx-10.7-x86_64-3.6/pygraphviz\n",
      "  running build_ext\n",
      "  building 'pygraphviz._graphviz' extension\n",
      "  creating build/temp.macosx-10.7-x86_64-3.6\n",
      "  creating build/temp.macosx-10.7-x86_64-3.6/pygraphviz\n",
      "  gcc -Wno-unused-result -Wsign-compare -Wunreachable-code -DNDEBUG -g -fwrapv -O3 -Wall -Wstrict-prototypes -I/usr/local/anaconda3/include -arch x86_64 -I/usr/local/anaconda3/include -arch x86_64 -I/usr/local/anaconda3/include/python3.6m -c pygraphviz/graphviz_wrap.c -o build/temp.macosx-10.7-x86_64-3.6/pygraphviz/graphviz_wrap.o\n",
      "  pygraphviz/graphviz_wrap.c:2987:10: fatal error: 'graphviz/cgraph.h' file not found\n",
      "  #include \"graphviz/cgraph.h\"\n",
      "           ^~~~~~~~~~~~~~~~~~~\n",
      "  1 error generated.\n",
      "  error: command 'gcc' failed with exit status 1\n",
      "  \n",
      "  ----------------------------------------\n",
      "\u001b[31m  Failed building wheel for pygraphviz\u001b[0m\n",
      "\u001b[?25h  Running setup.py clean for pygraphviz\n",
      "Failed to build pygraphviz\n",
      "Installing collected packages: pygraphviz\n",
      "  Running setup.py install for pygraphviz ... \u001b[?25lerror\n",
      "    Complete output from command /usr/local/anaconda3/bin/python -u -c \"import setuptools, tokenize;__file__='/private/var/folders/45/g2jwl_55621chnxnvj_9bffm0000gn/T/pip-install-lc6q378p/pygraphviz/setup.py';f=getattr(tokenize, 'open', open)(__file__);code=f.read().replace('\\r\\n', '\\n');f.close();exec(compile(code, __file__, 'exec'))\" install --record /private/var/folders/45/g2jwl_55621chnxnvj_9bffm0000gn/T/pip-record-d4j7wy5f/install-record.txt --single-version-externally-managed --compile:\n",
      "    running install\n",
      "    Trying dpkg\n",
      "    Failed to find dpkg\n",
      "    Trying pkg-config\n",
      "    Failed to find pkg-config\n",
      "    Trying dotneato-config\n",
      "    Failed to find dotneato-config\n",
      "    Failed to find dotneato-config\n",
      "    \n",
      "    Your Graphviz installation could not be found.\n",
      "    \n",
      "            1) You don't have Graphviz installed:\n",
      "               Install Graphviz (http://graphviz.org)\n",
      "    \n",
      "            2) Your Graphviz package might incomplete.\n",
      "               Install the binary development subpackage (e.g. libgraphviz-dev or similar.)\n",
      "    \n",
      "            3) You are using Windows\n",
      "               There are no PyGraphviz binary packages for Windows but you might be\n",
      "               able to build it from this source.  See\n",
      "               http://networkx.lanl.gov/pygraphviz/reference/faq.html\n",
      "    \n",
      "            If you think your installation is correct you will need to manually\n",
      "            provide path to graphviz include and library. For example:\n",
      "    \n",
      "            pip install pygraphviz --install-option=\"--include-path=/usr/include/graphviz\" --install-option=\"--library-path=/usr/lib/graphviz/\"\n",
      "    \n",
      "            The current setting of library_dirs and include_dirs is:\n",
      "    library_dirs=None\n",
      "    include_dirs=None\n",
      "    \n",
      "    error: Error locating graphviz.\n",
      "    \n",
      "    ----------------------------------------\n",
      "\u001b[31mCommand \"/usr/local/anaconda3/bin/python -u -c \"import setuptools, tokenize;__file__='/private/var/folders/45/g2jwl_55621chnxnvj_9bffm0000gn/T/pip-install-lc6q378p/pygraphviz/setup.py';f=getattr(tokenize, 'open', open)(__file__);code=f.read().replace('\\r\\n', '\\n');f.close();exec(compile(code, __file__, 'exec'))\" install --record /private/var/folders/45/g2jwl_55621chnxnvj_9bffm0000gn/T/pip-record-d4j7wy5f/install-record.txt --single-version-externally-managed --compile\" failed with error code 1 in /private/var/folders/45/g2jwl_55621chnxnvj_9bffm0000gn/T/pip-install-lc6q378p/pygraphviz/\u001b[0m\n",
      "\u001b[33mYou are using pip version 18.0, however version 18.1 is available.\n",
      "You should consider upgrading via the 'pip install --upgrade pip' command.\u001b[0m\n",
      "\u001b[?25h"
     ]
    }
   ],
   "source": [
    "!pip install pygraphviz"
   ]
  },
  {
   "cell_type": "code",
   "execution_count": 5,
   "metadata": {},
   "outputs": [
    {
     "name": "stdout",
     "output_type": "stream",
     "text": [
      "Collecting pip\n",
      "\u001b[?25l  Downloading https://files.pythonhosted.org/packages/c2/d7/90f34cb0d83a6c5631cf71dfe64cc1054598c843a92b400e55675cc2ac37/pip-18.1-py2.py3-none-any.whl (1.3MB)\n",
      "\u001b[K    100% |████████████████████████████████| 1.3MB 790kB/s ta 0:00:01\n",
      "\u001b[?25hInstalling collected packages: pip\n",
      "  Found existing installation: pip 18.0\n",
      "    Uninstalling pip-18.0:\n",
      "      Successfully uninstalled pip-18.0\n",
      "Successfully installed pip-18.1\n"
     ]
    }
   ],
   "source": [
    "!pip install --upgrade pip"
   ]
  },
  {
   "cell_type": "code",
   "execution_count": null,
   "metadata": {},
   "outputs": [],
   "source": []
  }
 ],
 "metadata": {
  "kernelspec": {
   "display_name": "Python 3",
   "language": "python",
   "name": "python3"
  },
  "language_info": {
   "codemirror_mode": {
    "name": "ipython",
    "version": 3
   },
   "file_extension": ".py",
   "mimetype": "text/x-python",
   "name": "python",
   "nbconvert_exporter": "python",
   "pygments_lexer": "ipython3",
   "version": "3.6.5"
  }
 },
 "nbformat": 4,
 "nbformat_minor": 2
}
