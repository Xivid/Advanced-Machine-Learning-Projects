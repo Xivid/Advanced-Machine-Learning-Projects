{
 "cells": [
  {
   "cell_type": "code",
   "execution_count": 3,
   "metadata": {},
   "outputs": [],
   "source": [
    "import biosppy.signals.ecg as ecg\n",
    "import lightgbm as lgb\n",
    "import numpy as np\n",
    "import xgboost as xgb\n",
    "from sklearn.metrics import f1_score\n",
    "from sklearn.model_selection import train_test_split"
   ]
  },
  {
   "cell_type": "code",
   "execution_count": 12,
   "metadata": {},
   "outputs": [],
   "source": [
    "X = np.loadtxt('data/rpeakfeature.csv', delimiter=',', skiprows=1, usecols=range(1,9))\n",
    "y = np.loadtxt('data/y_train.csv', delimiter=',', skiprows=1, usecols=range(1,2))"
   ]
  },
  {
   "cell_type": "code",
   "execution_count": 27,
   "metadata": {
    "scrolled": true
   },
   "outputs": [
    {
     "name": "stdout",
     "output_type": "stream",
     "text": [
      "[0]\ttrain-merror:0.26924\teval-merror:0.270508\ttrain-f1:0.73076\teval-f1:0.729492\n",
      "[1]\ttrain-merror:0.260445\teval-merror:0.265625\ttrain-f1:0.739555\teval-f1:0.734375\n",
      "[2]\ttrain-merror:0.24945\teval-merror:0.269531\ttrain-f1:0.75055\teval-f1:0.730469\n",
      "[3]\ttrain-merror:0.244075\teval-merror:0.266602\ttrain-f1:0.755925\teval-f1:0.733398\n",
      "[4]\ttrain-merror:0.242609\teval-merror:0.259766\ttrain-f1:0.757391\teval-f1:0.740234\n",
      "[5]\ttrain-merror:0.239189\teval-merror:0.256836\ttrain-f1:0.760811\teval-f1:0.743164\n",
      "[6]\ttrain-merror:0.236746\teval-merror:0.260742\ttrain-f1:0.763254\teval-f1:0.739258\n",
      "[7]\ttrain-merror:0.232348\teval-merror:0.268555\ttrain-f1:0.767652\teval-f1:0.731445\n",
      "[8]\ttrain-merror:0.229172\teval-merror:0.260742\ttrain-f1:0.770828\teval-f1:0.739258\n",
      "[9]\ttrain-merror:0.229416\teval-merror:0.260742\ttrain-f1:0.770584\teval-f1:0.739258\n",
      "[10]\ttrain-merror:0.227462\teval-merror:0.257812\ttrain-f1:0.772538\teval-f1:0.742188\n",
      "[11]\ttrain-merror:0.225018\teval-merror:0.258789\ttrain-f1:0.774982\teval-f1:0.741211\n",
      "[12]\ttrain-merror:0.223797\teval-merror:0.253906\ttrain-f1:0.776203\teval-f1:0.746094\n",
      "[13]\ttrain-merror:0.220865\teval-merror:0.254883\ttrain-f1:0.779135\teval-f1:0.745117\n",
      "[14]\ttrain-merror:0.219155\teval-merror:0.256836\ttrain-f1:0.780845\teval-f1:0.743164\n",
      "[15]\ttrain-merror:0.217933\teval-merror:0.258789\ttrain-f1:0.782067\teval-f1:0.741211\n",
      "[16]\ttrain-merror:0.215246\teval-merror:0.259766\ttrain-f1:0.784754\teval-f1:0.740234\n",
      "[17]\ttrain-merror:0.213535\teval-merror:0.255859\ttrain-f1:0.786465\teval-f1:0.744141\n",
      "[18]\ttrain-merror:0.212802\teval-merror:0.253906\ttrain-f1:0.787198\teval-f1:0.746094\n",
      "[19]\ttrain-merror:0.208405\teval-merror:0.256836\ttrain-f1:0.791595\teval-f1:0.743164\n",
      "[20]\ttrain-merror:0.20816\teval-merror:0.257812\ttrain-f1:0.79184\teval-f1:0.742188\n",
      "[21]\ttrain-merror:0.207672\teval-merror:0.254883\ttrain-f1:0.792328\teval-f1:0.745117\n",
      "[22]\ttrain-merror:0.208405\teval-merror:0.253906\ttrain-f1:0.791595\teval-f1:0.746094\n",
      "[23]\ttrain-merror:0.206694\teval-merror:0.25293\ttrain-f1:0.793306\teval-f1:0.74707\n",
      "[24]\ttrain-merror:0.205473\teval-merror:0.250977\ttrain-f1:0.794527\teval-f1:0.749023\n",
      "[25]\ttrain-merror:0.204495\teval-merror:0.251953\ttrain-f1:0.795505\teval-f1:0.748047\n",
      "[26]\ttrain-merror:0.20303\teval-merror:0.24707\ttrain-f1:0.79697\teval-f1:0.75293\n",
      "[27]\ttrain-merror:0.201808\teval-merror:0.245117\ttrain-f1:0.798192\teval-f1:0.754883\n",
      "[28]\ttrain-merror:0.201564\teval-merror:0.249023\ttrain-f1:0.798436\teval-f1:0.750977\n",
      "[29]\ttrain-merror:0.200342\teval-merror:0.249023\ttrain-f1:0.799658\teval-f1:0.750977\n",
      "[30]\ttrain-merror:0.199365\teval-merror:0.246094\ttrain-f1:0.800635\teval-f1:0.753906\n",
      "[31]\ttrain-merror:0.196922\teval-merror:0.24707\ttrain-f1:0.803078\teval-f1:0.75293\n",
      "[32]\ttrain-merror:0.193745\teval-merror:0.246094\ttrain-f1:0.806255\teval-f1:0.753906\n",
      "[33]\ttrain-merror:0.1957\teval-merror:0.244141\ttrain-f1:0.8043\teval-f1:0.755859\n",
      "[34]\ttrain-merror:0.19399\teval-merror:0.24707\ttrain-f1:0.80601\teval-f1:0.75293\n",
      "[35]\ttrain-merror:0.193257\teval-merror:0.244141\ttrain-f1:0.806743\teval-f1:0.755859\n",
      "[36]\ttrain-merror:0.191547\teval-merror:0.242188\ttrain-f1:0.808453\teval-f1:0.757812\n",
      "[37]\ttrain-merror:0.190814\teval-merror:0.244141\ttrain-f1:0.809186\teval-f1:0.755859\n",
      "[38]\ttrain-merror:0.191058\teval-merror:0.245117\ttrain-f1:0.808942\teval-f1:0.754883\n",
      "[39]\ttrain-merror:0.190569\teval-merror:0.246094\ttrain-f1:0.809431\teval-f1:0.753906\n",
      "[40]\ttrain-merror:0.186904\teval-merror:0.25\ttrain-f1:0.813096\teval-f1:0.75\n",
      "[41]\ttrain-merror:0.185927\teval-merror:0.251953\ttrain-f1:0.814073\teval-f1:0.748047\n",
      "[42]\ttrain-merror:0.184461\teval-merror:0.250977\ttrain-f1:0.815539\teval-f1:0.749023\n",
      "[43]\ttrain-merror:0.183973\teval-merror:0.251953\ttrain-f1:0.816027\teval-f1:0.748047\n",
      "[44]\ttrain-merror:0.178109\teval-merror:0.249023\ttrain-f1:0.821891\teval-f1:0.750977\n",
      "[45]\ttrain-merror:0.177865\teval-merror:0.25\ttrain-f1:0.822135\teval-f1:0.75\n",
      "[46]\ttrain-merror:0.177376\teval-merror:0.25\ttrain-f1:0.822624\teval-f1:0.75\n",
      "[47]\ttrain-merror:0.178353\teval-merror:0.249023\ttrain-f1:0.821647\teval-f1:0.750977\n",
      "[48]\ttrain-merror:0.176643\teval-merror:0.25\ttrain-f1:0.823357\teval-f1:0.75\n",
      "[49]\ttrain-merror:0.177376\teval-merror:0.24707\ttrain-f1:0.822624\teval-f1:0.75293\n",
      "[50]\ttrain-merror:0.176643\teval-merror:0.248047\ttrain-f1:0.823357\teval-f1:0.751953\n",
      "[51]\ttrain-merror:0.173956\teval-merror:0.249023\ttrain-f1:0.826044\teval-f1:0.750977\n",
      "[52]\ttrain-merror:0.173956\teval-merror:0.25\ttrain-f1:0.826044\teval-f1:0.75\n",
      "[53]\ttrain-merror:0.173711\teval-merror:0.248047\ttrain-f1:0.826289\teval-f1:0.751953\n",
      "[54]\ttrain-merror:0.171512\teval-merror:0.24707\ttrain-f1:0.828488\teval-f1:0.75293\n",
      "[55]\ttrain-merror:0.169069\teval-merror:0.248047\ttrain-f1:0.830931\teval-f1:0.751953\n",
      "[56]\ttrain-merror:0.167359\teval-merror:0.249023\ttrain-f1:0.832641\teval-f1:0.750977\n",
      "[57]\ttrain-merror:0.16516\teval-merror:0.251953\ttrain-f1:0.83484\teval-f1:0.748047\n",
      "[58]\ttrain-merror:0.164916\teval-merror:0.249023\ttrain-f1:0.835084\teval-f1:0.750977\n",
      "[59]\ttrain-merror:0.164427\teval-merror:0.249023\ttrain-f1:0.835573\teval-f1:0.750977\n",
      "Test error using softmax = 0.7509765625\n"
     ]
    }
   ],
   "source": [
    "# train_X = np.array(X[:int(len(X)*0.7)])\n",
    "# train_Y = np.array(y[:int(len(X)*0.7)])\n",
    "# eval_X = np.array(X[int(len(X)*0.7):])\n",
    "# eval_Y = np.array(y[int(len(X)*0.7):])\n",
    "train_X, eval_X, train_Y, eval_Y = train_test_split(X, y, test_size=0.2)\n",
    "xg_train = xgb.DMatrix(train_X, label=train_Y)\n",
    "xg_eval = xgb.DMatrix(eval_X, label=eval_Y)\n",
    "\n",
    "# setup parameters for xgboost\n",
    "param = {}\n",
    "# use softmax multi-class classification\n",
    "param['objective'] = 'multi:softmax'\n",
    "# scale weight of positive examples\n",
    "param['eta'] = 0.2\n",
    "param['gamma'] = 1.0\n",
    "param['max_depth'] = 6\n",
    "param['silent'] = 1\n",
    "param['subsample'] = 0.8\n",
    "param['colsample_bytree'] = 0.9\n",
    "param['min_child_weight'] = 20\n",
    "param['num_class'] = 4\n",
    "\n",
    "\n",
    "watchlist = [(xg_train, 'train'), (xg_eval, 'eval')]\n",
    "num_round = 60\n",
    "bst = xgb.train(param, \n",
    "                xg_train, \n",
    "                num_round, \n",
    "                watchlist, \n",
    "                feval=lambda y,t: (\"f1\", f1_score(y, t.get_label(), average='micro')))\n",
    "\n",
    "# get prediction\n",
    "pred = bst.predict(xg_eval)\n",
    "# error_rate = np.sum(pred != test_Y) / test_Y.shape[0]\n",
    "F1 = f1_score(eval_Y, pred, average='micro')\n",
    "print('Test error using softmax = {}'.format(F1))\n"
   ]
  },
  {
   "cell_type": "code",
   "execution_count": null,
   "metadata": {},
   "outputs": [],
   "source": [
    "xg_test = xgb.DMatrix(test_X)\n",
    "y_pred = bst.predict(xg_test)\n",
    "f = open(\"submission.csv\", \"w\")\n",
    "f.write(\"id,y\\n\")\n",
    "for i,x in enumerate(y_pred):\n",
    "    f.write(\"{},{}\\n\".format(i,y_pred[i]))\n",
    "f.close()"
   ]
  },
  {
   "cell_type": "code",
   "execution_count": null,
   "metadata": {},
   "outputs": [],
   "source": []
  },
  {
   "cell_type": "code",
   "execution_count": null,
   "metadata": {},
   "outputs": [],
   "source": []
  }
 ],
 "metadata": {
  "kernelspec": {
   "display_name": "Python 3",
   "language": "python",
   "name": "python3"
  },
  "language_info": {
   "codemirror_mode": {
    "name": "ipython",
    "version": 3
   },
   "file_extension": ".py",
   "mimetype": "text/x-python",
   "name": "python",
   "nbconvert_exporter": "python",
   "pygments_lexer": "ipython3",
   "version": "3.6.5"
  }
 },
 "nbformat": 4,
 "nbformat_minor": 2
}
