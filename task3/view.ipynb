{
 "cells": [
  {
   "cell_type": "code",
   "execution_count": 1,
   "metadata": {},
   "outputs": [
    {
     "name": "stdout",
     "output_type": "stream",
     "text": [
      "Collecting biosppy\n",
      "\u001b[?25l  Downloading https://files.pythonhosted.org/packages/b7/60/d09a277f9d31a2fc9190edf7e8a685c4f9b54b5dff487f523b916f441e1a/biosppy-0.6.1-py2.py3-none-any.whl (76kB)\n",
      "\u001b[K    100% |████████████████████████████████| 81kB 1.4MB/s ta 0:00:01\n",
      "\u001b[?25hRequirement already satisfied: numpy in /Users/Xivid/anaconda3/lib/python3.6/site-packages (from biosppy) (1.15.2)\n",
      "Requirement already satisfied: h5py in /Users/Xivid/anaconda3/lib/python3.6/site-packages (from biosppy) (2.7.1)\n",
      "Collecting bidict (from biosppy)\n",
      "  Downloading https://files.pythonhosted.org/packages/c9/cb/6bd66e86789961d78de927f45a040bb8f2b4767e8c88830af4ba6ce8e8cc/bidict-0.17.3-py3-none-any.whl\n",
      "Requirement already satisfied: matplotlib in /Users/Xivid/anaconda3/lib/python3.6/site-packages (from biosppy) (2.2.2)\n",
      "Collecting shortuuid (from biosppy)\n",
      "  Downloading https://files.pythonhosted.org/packages/80/d7/2bfc9332e68d3e15ea97b9b1588b3899ad565120253d3fd71c8f7f13b4fe/shortuuid-0.5.0.tar.gz\n",
      "Requirement already satisfied: six in /Users/Xivid/anaconda3/lib/python3.6/site-packages (from biosppy) (1.11.0)\n",
      "Requirement already satisfied: scikit-learn in /Users/Xivid/anaconda3/lib/python3.6/site-packages (from biosppy) (0.20.0)\n",
      "Requirement already satisfied: scipy in /Users/Xivid/anaconda3/lib/python3.6/site-packages (from biosppy) (1.1.0)\n",
      "Requirement already satisfied: pytz in /Users/Xivid/anaconda3/lib/python3.6/site-packages (from matplotlib->biosppy) (2017.3)\n",
      "Requirement already satisfied: cycler>=0.10 in /Users/Xivid/anaconda3/lib/python3.6/site-packages (from matplotlib->biosppy) (0.10.0)\n",
      "Requirement already satisfied: pyparsing!=2.0.4,!=2.1.2,!=2.1.6,>=2.0.1 in /Users/Xivid/anaconda3/lib/python3.6/site-packages (from matplotlib->biosppy) (2.2.0)\n",
      "Requirement already satisfied: kiwisolver>=1.0.1 in /Users/Xivid/anaconda3/lib/python3.6/site-packages (from matplotlib->biosppy) (1.0.1)\n",
      "Requirement already satisfied: python-dateutil>=2.1 in /Users/Xivid/anaconda3/lib/python3.6/site-packages (from matplotlib->biosppy) (2.6.1)\n",
      "Requirement already satisfied: setuptools in /Users/Xivid/anaconda3/lib/python3.6/site-packages (from kiwisolver>=1.0.1->matplotlib->biosppy) (38.4.0)\n",
      "Building wheels for collected packages: shortuuid\n",
      "  Running setup.py bdist_wheel for shortuuid ... \u001b[?25ldone\n",
      "\u001b[?25h  Stored in directory: /Users/Xivid/Library/Caches/pip/wheels/3f/eb/fd/69e5177f67b505e44acbd1aedfbe44b91768ee0c4cd5636576\n",
      "Successfully built shortuuid\n",
      "Installing collected packages: bidict, shortuuid, biosppy\n",
      "Successfully installed bidict-0.17.3 biosppy-0.6.1 shortuuid-0.5.0\n"
     ]
    }
   ],
   "source": [
    "!pip install biosppy"
   ]
  },
  {
   "cell_type": "code",
   "execution_count": 2,
   "metadata": {},
   "outputs": [],
   "source": [
    "import biosppy.signals.ecg as ecg"
   ]
  },
  {
   "cell_type": "code",
   "execution_count": null,
   "metadata": {},
   "outputs": [],
   "source": [
    "signals = []\n",
    "with open(\"data/X_train.csv\") as f_train:\n",
    "    \n"
   ]
  },
  {
   "cell_type": "code",
   "execution_count": 3,
   "metadata": {
    "scrolled": true
   },
   "outputs": [
    {
     "ename": "TypeError",
     "evalue": "Please specify an input signal.",
     "output_type": "error",
     "traceback": [
      "\u001b[0;31m---------------------------------------------------------------------------\u001b[0m",
      "\u001b[0;31mTypeError\u001b[0m                                 Traceback (most recent call last)",
      "\u001b[0;32m<ipython-input-3-bd88fee8b049>\u001b[0m in \u001b[0;36m<module>\u001b[0;34m()\u001b[0m\n\u001b[0;32m----> 1\u001b[0;31m \u001b[0mecg\u001b[0m\u001b[0;34m.\u001b[0m\u001b[0mecg\u001b[0m\u001b[0;34m(\u001b[0m\u001b[0;34m)\u001b[0m\u001b[0;34m\u001b[0m\u001b[0m\n\u001b[0m",
      "\u001b[0;32m~/anaconda3/lib/python3.6/site-packages/biosppy/signals/ecg.py\u001b[0m in \u001b[0;36mecg\u001b[0;34m(signal, sampling_rate, show)\u001b[0m\n\u001b[1;32m     60\u001b[0m     \u001b[0;31m# check inputs\u001b[0m\u001b[0;34m\u001b[0m\u001b[0;34m\u001b[0m\u001b[0m\n\u001b[1;32m     61\u001b[0m     \u001b[0;32mif\u001b[0m \u001b[0msignal\u001b[0m \u001b[0;32mis\u001b[0m \u001b[0;32mNone\u001b[0m\u001b[0;34m:\u001b[0m\u001b[0;34m\u001b[0m\u001b[0m\n\u001b[0;32m---> 62\u001b[0;31m         \u001b[0;32mraise\u001b[0m \u001b[0mTypeError\u001b[0m\u001b[0;34m(\u001b[0m\u001b[0;34m\"Please specify an input signal.\"\u001b[0m\u001b[0;34m)\u001b[0m\u001b[0;34m\u001b[0m\u001b[0m\n\u001b[0m\u001b[1;32m     63\u001b[0m \u001b[0;34m\u001b[0m\u001b[0m\n\u001b[1;32m     64\u001b[0m     \u001b[0;31m# ensure numpy\u001b[0m\u001b[0;34m\u001b[0m\u001b[0;34m\u001b[0m\u001b[0m\n",
      "\u001b[0;31mTypeError\u001b[0m: Please specify an input signal."
     ]
    }
   ],
   "source": [
    "ecg.ecg()"
   ]
  },
  {
   "cell_type": "code",
   "execution_count": null,
   "metadata": {},
   "outputs": [],
   "source": []
  }
 ],
 "metadata": {
  "kernelspec": {
   "display_name": "Python 3",
   "language": "python",
   "name": "python3"
  },
  "language_info": {
   "codemirror_mode": {
    "name": "ipython",
    "version": 3
   },
   "file_extension": ".py",
   "mimetype": "text/x-python",
   "name": "python",
   "nbconvert_exporter": "python",
   "pygments_lexer": "ipython3",
   "version": "3.6.4"
  }
 },
 "nbformat": 4,
 "nbformat_minor": 2
}
